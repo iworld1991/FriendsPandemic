{
 "cells": [
  {
   "cell_type": "code",
   "execution_count": 1,
   "metadata": {},
   "outputs": [],
   "source": [
    "import numpy as np\n",
    "from quantecon.optimize import brent_max, brentq\n",
    "from interpolation import interp\n",
    "from numba import njit, float64, jitclass\n",
    "import matplotlib.pyplot as plt\n",
    "%matplotlib inline\n",
    "from quantecon import MarkovChain\n",
    "import quantecon as qe \n",
    "from HARK.utilities import getLorenzShares, getPercentiles\n",
    "from scipy import interpolate\n",
    "\n",
    "import pandas as pd \n",
    "import seaborn as sns"
   ]
  },
  {
   "cell_type": "code",
   "execution_count": 2,
   "metadata": {},
   "outputs": [],
   "source": [
    "ifp_data = [\n",
    "    ('γ', float64),              # utility parameter\n",
    "    ('β', float64),              # discount factor\n",
    "    ('R',float64),               # interest rate factor \n",
    "    ('p_vec',float64[:]),        # price vector\n",
    "    ('eps', float64),            # EOS \n",
    "    ('phi', float64),            # share of sector 1 consumption\n",
    "    ('P', float64[:, :]),        # transition probs for z_t\n",
    "    ('z_val', float64[:]),       # values of z \n",
    "    ('a_s', float64),            # scale parameter for S_t\n",
    "    ('b_s', float64),            # additive parameter for S_t\n",
    "    ('a_y', float64),            # scale parameter for Y_t\n",
    "    ('b_y', float64),            # additive parameter for Y_t\n",
    "    ('s_grid', float64[:]),      # Grid over savings\n",
    "    ('η_draws', float64[:]),     # Draws of innovation η for MC\n",
    "    ('ζ_draws', float64[:])      # Draws of innovation ζ for MC\n",
    "]"
   ]
  },
  {
   "cell_type": "code",
   "execution_count": 23,
   "metadata": {
    "code_folding": [
     25,
     41
    ]
   },
   "outputs": [],
   "source": [
    "@njit\n",
    "def p_composite(p_vec,\n",
    "                eps,\n",
    "                phi,\n",
    "                S):\n",
    "    ## composite price index \n",
    "    p_idx = ((S*phi)**eps*p_vec[0]**(1-eps)+(1-phi)**eps*p_vec[1]**(1-eps))**(1/(1-eps))\n",
    "    return p_idx\n",
    "\n",
    "@njit\n",
    "def MU_multiply(c,\n",
    "                p_vec,\n",
    "                eps,\n",
    "                phi,\n",
    "                S,\n",
    "                γ):\n",
    "    p_idx = p_composite(p_vec,\n",
    "                       eps,\n",
    "                       phi,\n",
    "                       S)\n",
    "    term = (S*phi)**eps*(p_vec[0]/p_idx)**(1-eps)+(1-phi)**eps*(p_vec[1]/p_idx)**(1-eps)\n",
    "    to_multiply = (term)**(eps*(1-γ)/(eps-1))\n",
    "    return c**(-1/γ)/to_multiply\n",
    "\n",
    "\n",
    "def u_prime(model,\n",
    "            c,\n",
    "            S):\n",
    "    p_vec = model.p_vec\n",
    "    eps,phi,γ = model.eps,model.phi,model.γ\n",
    "    \n",
    "    ## composite price index \n",
    "    to_multiply = MU_multiply(c,\n",
    "                              p_vec,\n",
    "                              eps,\n",
    "                              phi,\n",
    "                              S,\n",
    "                              γ)\n",
    "    return to_multiply*c**(-γ)\n",
    "    \n",
    "\n",
    "def u_prime_inv(model, \n",
    "                c, \n",
    "                S):\n",
    "        ##  s is the taste shock to the sector 1 \n",
    "        p_vec = model.p_vec\n",
    "        phi, eps = model.phi, model.eps\n",
    "        γ = model.γ\n",
    "        ## composite price index \n",
    "        to_multiply = MU_multiply(c,\n",
    "                                  p_vec,\n",
    "                                  eps,\n",
    "                                  phi,\n",
    "                                  S,\n",
    "                                  γ)\n",
    "        return c**(-1/γ)/to_multiply"
   ]
  },
  {
   "cell_type": "code",
   "execution_count": 24,
   "metadata": {
    "code_folding": [
     7,
     45,
     63
    ]
   },
   "outputs": [],
   "source": [
    "@jitclass(ifp_data)\n",
    "class IFCAP:  ## income fluctuation and consumption allocation problem \n",
    "    \"\"\"\n",
    "    A class that stores primitives for the income fluctuation and 2-sector consumption\n",
    "    allocation problem.\n",
    "    \"\"\"\n",
    "\n",
    "    def __init__(self,\n",
    "                 γ = 1.5,\n",
    "                 β = 0.96,\n",
    "                 P = np.array([(0.9, 0.1),\n",
    "                             (0.1, 0.9)]),\n",
    "                 z_val = np.array([1.0,2.0]), \n",
    "                 a_s = 0.1,     ## size of the taste shock  \n",
    "                 b_s = - 0.2,   ## coefficient of pandemic state on taste \n",
    "                 a_y = 0.3,     ## size of income risks\n",
    "                 b_y = - 0.3,   ## coefficient of pandemic state on income \n",
    "                 R = 1.03,\n",
    "                 p_vec = np.array([0.8,1]), ## price vector of two goods\n",
    "                 eps = 0.75,    ## EOS between two goods\n",
    "                 phi = 0.5,     ## steady state share of the first good\n",
    "                 shock_draw_size = 50,\n",
    "                 grid_max = 5,\n",
    "                 grid_size = 100,\n",
    "                 seed = 1234):\n",
    "\n",
    "        np.random.seed(seed)  # arbitrary seed\n",
    "\n",
    "        self.γ, self.β = γ, β\n",
    "        \n",
    "        self.R = R \n",
    "        self.a_s, self.b_s, self.a_y, self.b_y = a_s, b_s, a_y, b_y\n",
    "        \n",
    "        self.η_draws = np.random.randn(shock_draw_size)\n",
    "        self.ζ_draws = np.random.randn(shock_draw_size)\n",
    "        self.s_grid = np.linspace(0, grid_max, grid_size)\n",
    "        \n",
    "        self.P, self.z_val = P, z_val\n",
    "\n",
    "        # Test stability assuming {R_t} is IID and adopts the lognormal\n",
    "        # specification given below.  The test is then β E R_t < 1.\n",
    "        #ER = np.exp(b_r + a_r**2 / 2)\n",
    "        assert β * R < 1, \"Stability condition failed.\"\n",
    "\n",
    "    # Marginal utility\n",
    "    def u_prime(self, c, S):   ## this is the MU from indirect utility function that depends on taste shock \n",
    "        \n",
    "        ##  S is the taste shock to the sector 1 \n",
    "        \n",
    "        p_vec = self.p_vec\n",
    "        phi, eps = self.phi, self.eps\n",
    "        \n",
    "        γ = self.γ\n",
    "        ## composite price index \n",
    "        to_multiply = MU_multiply(c,\n",
    "                                  p_vec,\n",
    "                                  eps,\n",
    "                                  phi,\n",
    "                                  S,\n",
    "                                  γ)\n",
    "        return to_multiply*c**(-γ) \n",
    "\n",
    "    # Inverse of marginal utility\n",
    "    def u_prime_inv(self, c, S):\n",
    "        ##  s is the taste shock to the sector 1 \n",
    "        p_vec = self.p_vec\n",
    "        phi, eps = self.phi, self.eps\n",
    "        γ = self.γ\n",
    "        ## composite price index \n",
    "        to_multiply = MU_multiply(c,\n",
    "                                  p_vec,\n",
    "                                  eps,\n",
    "                                  phi,\n",
    "                                  S,\n",
    "                                  γ)\n",
    "        return c**(-1/γ)/to_multiply"
   ]
  },
  {
   "cell_type": "code",
   "execution_count": 25,
   "metadata": {},
   "outputs": [],
   "source": [
    "## an instance \n",
    "\n",
    "ifp = IFCAP()\n",
    "\n",
    "## feed a markov tanchened from ar1\n",
    "\n",
    "ρ, σ = (0.978,0.18)\n",
    "mc = qe.markov.tauchen(ρ,σ,n=7) \n",
    "constant = np.exp(0.13)\n",
    "ifp.z_val, ifp.P = mc.state_values+constant, mc.P"
   ]
  },
  {
   "cell_type": "code",
   "execution_count": 39,
   "metadata": {},
   "outputs": [],
   "source": [
    "u_primes = u_prime(ifp,\n",
    "                    1,\n",
    "                    np.linspace(0.01,2))"
   ]
  },
  {
   "cell_type": "code",
   "execution_count": 40,
   "metadata": {},
   "outputs": [
    {
     "data": {
      "text/plain": [
       "[<matplotlib.lines.Line2D at 0x1a20cf7cc0>]"
      ]
     },
     "execution_count": 40,
     "metadata": {},
     "output_type": "execute_result"
    },
    {
     "data": {
      "image/png": "[encoded data removed]",
      "text/plain": [
       "<Figure size 432x288 with 1 Axes>"
      ]
     },
     "metadata": {
      "needs_background": "light"
     },
     "output_type": "display_data"
    }
   ],
   "source": [
    "plt.plot(u_primes)"
   ]
  },
  {
   "cell_type": "code",
   "execution_count": 37,
   "metadata": {},
   "outputs": [],
   "source": [
    "u_primes_inv = u_prime_inv(ifp,\n",
    "                    1,\n",
    "                    np.linspace(0.01,2))"
   ]
  },
  {
   "cell_type": "code",
   "execution_count": 38,
   "metadata": {},
   "outputs": [
    {
     "data": {
      "text/plain": [
       "[<matplotlib.lines.Line2D at 0x1a20d7be80>]"
      ]
     },
     "execution_count": 38,
     "metadata": {},
     "output_type": "execute_result"
    },
    {
     "data": {
      "image/png": "[encoded data removed]",
      "text/plain": [
       "<Figure size 432x288 with 1 Axes>"
      ]
     },
     "metadata": {
      "needs_background": "light"
     },
     "output_type": "display_data"
    }
   ],
   "source": [
    "plt.plot(u_primes_inv)"
   ]
  },
  {
   "cell_type": "code",
   "execution_count": null,
   "metadata": {},
   "outputs": [],
   "source": []
  }
 ],
 "metadata": {
  "jupytext": {
   "encoding": "# -*- coding: utf-8 -*-",
   "formats": "ipynb,py:light"
  },
  "kernelspec": {
   "display_name": "Python 3",
   "language": "python",
   "name": "python3"
  },
  "language_info": {
   "codemirror_mode": {
    "name": "ipython",
    "version": 3
   },
   "file_extension": ".py",
   "mimetype": "text/x-python",
   "name": "python",
   "nbconvert_exporter": "python",
   "pygments_lexer": "ipython3",
   "version": "3.7.3"
  }
 },
 "nbformat": 4,
 "nbformat_minor": 4
}
